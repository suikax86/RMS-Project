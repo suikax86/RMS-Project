{
    "cells": [
        {
            "cell_type": "markdown",
            "metadata": {},
            "source": [
                "Docker Command: docker run -e \"ACCEPT_EULA=Y\" -e \"MSSQL_SA_PASSWORD=SQLServer123@\" -p 1433:1433 --name sqlserver -d mcr.microsoft.com/mssql/server:2022-latest\n",
                "Connection String:\n",
                "Server = localhost,1433; Database = RMS-Project; User Id = sa; Password = SQLServer123@; TrustServerCertificate=True"
            ]
        },
        {
            "attachments": {},
            "cell_type": "markdown",
            "metadata": {
                "azdata_cell_guid": "10fbbf26-e9f9-498d-8af0-c5dedf942e17"
            },
            "source": [
                "Bảng user"
            ]
        },
        {
            "cell_type": "code",
            "execution_count": null,
            "metadata": {
                "azdata_cell_guid": "36214bbe-720d-4745-a6d5-3eb51f31ea46",
                "language": "sql",
                "tags": []
            },
            "outputs": [],
            "source": [
                "CREATE TABLE Users\n",
                "(\n",
                "    UserID UNIQUEIDENTIFIER PRIMARY KEY DEFAULT NEWID(),\n",
                "    Username NVARCHAR(50) NOT NULL,\n",
                "    PasswordHash NVARCHAR(128) NOT NULL,\n",
                "    PasswordSalt NVARCHAR(128) NOT NULL,\n",
                "    RoleID INT FOREIGN KEY REFERENCES Roles(RoleID)\n",
                ")"
            ]
        },
        {
            "attachments": {},
            "cell_type": "markdown",
            "metadata": {
                "azdata_cell_guid": "38061181-7981-4580-aa71-f8345006bd19"
            },
            "source": [
                "Bảng Role"
            ]
        },
        {
            "cell_type": "code",
            "execution_count": null,
            "metadata": {
                "azdata_cell_guid": "51f5bf5f-c5eb-493c-bf4d-49d49febd7ad",
                "language": "sql"
            },
            "outputs": [],
            "source": [
                "CREATE TABLE Roles\n",
                "(\n",
                "    RoleID INT PRIMARY KEY ,\n",
                "    RoleName NVARCHAR(50) NOT NULL\n",
                ")"
            ]
        },
        {
            "cell_type": "code",
            "execution_count": null,
            "metadata": {
                "azdata_cell_guid": "a6795c7a-dea8-44c1-b042-2f311dda84e1",
                "language": "sql"
            },
            "outputs": [],
            "source": [
                "DROP TABLE Users;\n",
                "DROP TABLE Roles;"
            ]
        },
        {
            "cell_type": "markdown",
            "metadata": {},
            "source": [
                "Dữ liệu mẫu bảng Roles"
            ]
        },
        {
            "cell_type": "code",
            "execution_count": 14,
            "metadata": {
                "azdata_cell_guid": "cc5ed421-c326-4d2e-8435-80d3800c1a84",
                "language": "sql"
            },
            "outputs": [
                {
                    "data": {
                        "text/html": [
                            "(1 row affected)"
                        ]
                    },
                    "metadata": {},
                    "output_type": "display_data"
                },
                {
                    "data": {
                        "text/html": [
                            "(1 row affected)"
                        ]
                    },
                    "metadata": {},
                    "output_type": "display_data"
                },
                {
                    "data": {
                        "text/html": [
                            "(1 row affected)"
                        ]
                    },
                    "metadata": {},
                    "output_type": "display_data"
                },
                {
                    "data": {
                        "text/html": [
                            "Total execution time: 00:00:00.015"
                        ]
                    },
                    "metadata": {},
                    "output_type": "display_data"
                }
            ],
            "source": [
                "INSERT INTO Roles(RoleID, RoleName) VALUES (1, N'COMPANY');\n",
                "INSERT INTO Roles(RoleID, RoleName) VALUES (2, N'CANDIDATE');\n",
                "INSERT INTO Roles(RoleID, RoleName) VALUES (3, N'EMPLOYEE');"
            ]
        },
        {
            "attachments": {},
            "cell_type": "markdown",
            "metadata": {
                "azdata_cell_guid": "af8463d1-d9a8-4e8d-8fd6-9016a1351929"
            },
            "source": [
                "Stored Procedues User"
            ]
        },
        {
            "cell_type": "code",
            "execution_count": null,
            "metadata": {
                "azdata_cell_guid": "3af1c049-25d5-449a-a654-5b4eb2a370c7",
                "language": "sql",
                "tags": []
            },
            "outputs": [],
            "source": [
                "CREATE PROCEDURE RegisterUser\n",
                "    @Username NVARCHAR(50),\n",
                "    @PasswordHash NVARCHAR(128),\n",
                "    @PasswordSalt NVARCHAR(128),\n",
                "    @RoleID INT\n",
                "AS\n",
                "BEGIN\n",
                "    INSERT INTO Users(Username, PasswordHash, PasswordSalt, RoleID)\n",
                "    VALUES (@Username, @PasswordHash, @PasswordSalt, @RoleID)\n",
                "END"
            ]
        },
        {
            "cell_type": "code",
            "execution_count": null,
            "metadata": {
                "azdata_cell_guid": "0ced89e8-0f04-4dd5-9d86-24270627e0c5",
                "language": "sql"
            },
            "outputs": [],
            "source": [
                "CREATE PROCEDURE LoginUser\n",
                "    @Username NVARCHAR(50),\n",
                "    @PasswordHash NVARCHAR(128)\n",
                "AS\n",
                "BEGIN\n",
                "    SELECT UserID, RoleID FROM Users\n",
                "    WHERE Username = @Username AND PasswordHash = @PasswordHash\n",
                "END"
            ]
        }
    ],
    "metadata": {
        "kernelspec": {
            "display_name": "SQL",
            "language": "sql",
            "name": "SQL"
        },
        "language_info": {
            "name": "sql",
            "version": ""
        }
    },
    "nbformat": 4,
    "nbformat_minor": 2
}
