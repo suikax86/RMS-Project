{
    "metadata": {
        "kernelspec": {
            "name": "SQL",
            "display_name": "SQL",
            "language": "sql"
        },
        "language_info": {
            "name": "sql",
            "version": ""
        }
    },
    "nbformat_minor": 2,
    "nbformat": 4,
    "cells": [
        {
            "cell_type": "markdown",
            "source": [
                "**Docker Command:** \n",
                "\n",
                "```\n",
                "docker run -e \"ACCEPT_EULA=Y\" -e \"MSSQL_SA_PASSWORD=SQLServer123@\" -p 1433:1433 --name sqlserver -d mcr.microsoft.com/mssql/server:2022-latest \n",
                "```\n",
                "\n",
                "**Connection String:** \n",
                "\n",
                "```\n",
                "Server = localhost,1433; Database = RMS; User Id = sa; Password = SQLServer123@; TrustServerCertificate=True\n",
                "```"
            ],
            "metadata": {
                "azdata_cell_guid": "a8316cfe-b239-4fdd-8a20-764c7066bf15"
            },
            "attachments": {}
        },
        {
            "cell_type": "markdown",
            "source": [
                "Bảng **Role**"
            ],
            "metadata": {
                "azdata_cell_guid": "38061181-7981-4580-aa71-f8345006bd19"
            },
            "attachments": {}
        },
        {
            "cell_type": "code",
            "source": [
                "CREATE TABLE Roles\n",
                "(\n",
                "    RoleID INT PRIMARY KEY ,\n",
                "    RoleName NVARCHAR(50) NOT NULL\n",
                ")"
            ],
            "metadata": {
                "azdata_cell_guid": "51f5bf5f-c5eb-493c-bf4d-49d49febd7ad",
                "language": "sql"
            },
            "outputs": [],
            "execution_count": null
        },
        {
            "cell_type": "code",
            "source": [
                "INSERT INTO Roles(RoleID, RoleName) VALUES (1, 'Admin');\n",
                "INSERT INTO Roles(RoleID, RoleName) VALUES (2, 'Employee');\n",
                "INSERT INTO Roles(RoleID, RoleName) VALUES (3, 'Company');\n",
                "INSERT INTO Roles(RoleID, RoleName) VALUES (4, 'Candidate');"
            ],
            "metadata": {
                "azdata_cell_guid": "cc5ed421-c326-4d2e-8435-80d3800c1a84",
                "language": "sql"
            },
            "outputs": [],
            "execution_count": null
        },
        {
            "cell_type": "markdown",
            "source": [
                "Bảng **Accounts**"
            ],
            "metadata": {
                "azdata_cell_guid": "10fbbf26-e9f9-498d-8af0-c5dedf942e17"
            },
            "attachments": {}
        },
        {
            "cell_type": "code",
            "source": [
                "CREATE TABLE Accounts (\n",
                "    AccountID UNIQUEIDENTIFIER PRIMARY KEY DEFAULT NEWID(),\n",
                "    Username NVARCHAR(255) NOT NULL,\n",
                "    PasswordHash NVARCHAR(128) NOT NULL,\n",
                "    PasswordSalt NVARCHAR(128) NOT NULL,\n",
                "    RoleID INT,\n",
                "    FOREIGN KEY (RoleID) REFERENCES Roles(RoleID)\n",
                ");\n",
                ""
            ],
            "metadata": {
                "azdata_cell_guid": "36214bbe-720d-4745-a6d5-3eb51f31ea46",
                "language": "sql",
                "tags": []
            },
            "outputs": [],
            "execution_count": null
        },
        {
            "cell_type": "markdown",
            "source": [
                "Bảng **Companies**"
            ],
            "metadata": {
                "azdata_cell_guid": "af8463d1-d9a8-4e8d-8fd6-9016a1351929"
            },
            "attachments": {}
        },
        {
            "cell_type": "code",
            "source": [
                "CREATE TABLE Companies (\n",
                "    CompanyID UNIQUEIDENTIFIER PRIMARY KEY DEFAULT NEWID(),\n",
                "    AccountID UNIQUEIDENTIFIER,\n",
                "    CompanyName NVARCHAR(255) NOT NULL,\n",
                "    TaxIdentificationNumber NVARCHAR(255) NOT NULL,\n",
                "    Representative NVARCHAR(255) NOT NULL,\n",
                "    Address NVARCHAR(255),\n",
                "    Email NVARCHAR(255),\n",
                "    FOREIGN KEY (AccountID) REFERENCES Accounts(AccountID),\n",
                "    UNIQUE (CompanyName, TaxIdentificationNumber)\n",
                ");\n",
                ""
            ],
            "metadata": {
                "azdata_cell_guid": "e12958e0-c2d4-495d-8bf0-dd1981b63743",
                "language": "sql",
                "tags": []
            },
            "outputs": [],
            "execution_count": null
        },
        {
            "cell_type": "code",
            "source": [
                "CREATE PROCEDURE RegisterCompany\n",
                "    @Username NVARCHAR(50),\n",
                "    @PasswordHash NVARCHAR(128),\n",
                "    @PasswordSalt NVARCHAR(128),\n",
                "    @CompanyName NVARCHAR(100),\n",
                "    @TaxIdentificationNumber NVARCHAR(50),\n",
                "    @Representative NVARCHAR(100),\n",
                "    @Address NVARCHAR(200),\n",
                "    @Email NVARCHAR(100)\n",
                "AS\n",
                "BEGIN\n",
                "    IF NOT EXISTS (SELECT 1 FROM Companies WHERE CompanyName = @CompanyName)\n",
                "    BEGIN\n",
                "        INSERT INTO Accounts(Username, PasswordHash, PasswordSalt, RoleID)\n",
                "        VALUES (@Username, @PasswordHash, @PasswordSalt, 3);\n",
                "        INSERT INTO Companies(AccountID, CompanyName, TaxIdentificationNumber, Representative, Address, Email)\n",
                "        VALUES (SCOPE_IDENTITY(), @CompanyName, @TaxIdentificationNumber, @Representative, @Address, @Email);\n",
                "    END\n",
                "END\n",
                "CREATE PROCEDURE LoginUser\n",
                "    @Username NVARCHAR(50),\n",
                "    @PasswordHash NVARCHAR(128)\n",
                "AS\n",
                "BEGIN\n",
                "    SELECT AccountID, RoleID FROM Accounts\n",
                "    WHERE Username = @Username AND PasswordHash = @PasswordHash\n",
                "END"
            ],
            "metadata": {
                "azdata_cell_guid": "85a202a0-4b5d-46e5-aeff-4f2243f49a53",
                "language": "sql"
            },
            "outputs": [],
            "execution_count": null
        }
    ]
}